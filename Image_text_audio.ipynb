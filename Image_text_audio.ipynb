{
 "cells": [
  {
   "cell_type": "code",
   "execution_count": null,
   "id": "c9068c58",
   "metadata": {},
   "outputs": [],
   "source": [
    "\n",
    "!pip install pytesseract\n",
    "\n",
    "!pip install Pillow==9.0.0\n",
    "!pip install gTTS"
   ]
  },
  {
   "cell_type": "code",
   "execution_count": null,
   "id": "f96f7ae4",
   "metadata": {},
   "outputs": [],
   "source": [
    "import pytesseract  \n",
    "from PIL import Image \n",
    "import gtts"
   ]
  },
  {
   "cell_type": "code",
   "execution_count": null,
   "id": "ab9e79a4",
   "metadata": {},
   "outputs": [],
   "source": [
    "img = Image.open('C:\\\\Users\\jyotp\\Downloads\\Picture1.png')\n",
    "print(img)"
   ]
  },
  {
   "cell_type": "code",
   "execution_count": null,
   "id": "1503d736",
   "metadata": {},
   "outputs": [],
   "source": [
    "result = pytesseract.image_to_string(img)\n",
    "print(result)\n",
    "tts = gtts.gTTS(result)\n",
    "tts.save(\"hello2.mp3\")"
   ]
  },
  {
   "cell_type": "code",
   "execution_count": null,
   "id": "860623db",
   "metadata": {},
   "outputs": [],
   "source": []
  }
 ],
 "metadata": {
  "kernelspec": {
   "display_name": "Python 3 (ipykernel)",
   "language": "python",
   "name": "python3"
  },
  "language_info": {
   "codemirror_mode": {
    "name": "ipython",
    "version": 3
   },
   "file_extension": ".py",
   "mimetype": "text/x-python",
   "name": "python",
   "nbconvert_exporter": "python",
   "pygments_lexer": "ipython3",
   "version": "3.10.9"
  }
 },
 "nbformat": 4,
 "nbformat_minor": 5
}
